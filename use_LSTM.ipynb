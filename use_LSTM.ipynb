{
 "cells": [
  {
   "cell_type": "code",
   "execution_count": 10,
   "metadata": {
    "scrolled": true
   },
   "outputs": [],
   "source": [
    "import pandas as pd\n",
    "from sklearn.preprocessing import MinMaxScaler\n",
    "## for Deep-learing:\n",
    "import keras\n",
    "from keras.layers import Dense\n",
    "from keras.models import Sequential\n",
    "from keras.utils import to_categorical\n",
    "from keras.optimizers import SGD \n",
    "from keras.callbacks import EarlyStopping\n",
    "from keras.utils import np_utils\n",
    "import itertools\n",
    "from keras.layers import LSTM\n",
    "from keras.layers.convolutional import Conv1D\n",
    "from keras.layers.convolutional import MaxPooling1D\n",
    "from keras.layers import Dropout\n",
    "import matplotlib.pyplot as plt\n",
    "from sklearn.metrics import mean_squared_error\n",
    "# from read_data import load_df\n",
    "import numpy as np\n",
    "from preprocessing import PrepareData\n",
    "from jupyterthemes import jtplot\n",
    "jtplot.style()\n",
    "from keras.callbacks import ReduceLROnPlateau\n",
    "from preprocessing import PrepareData\n",
    "\n",
    "from keras.wrappers.scikit_learn import KerasClassifier\n",
    "from sklearn.model_selection import GridSearchCV\n",
    "import datetime\n",
    "\n",
    "from keras.callbacks import TensorBoard"
   ]
  },
  {
   "cell_type": "code",
   "execution_count": 11,
   "metadata": {},
   "outputs": [],
   "source": [
    "def convert_to_price(sales, predict_results):\n",
    "    max_s = sales.SalePrice.max()\n",
    "    min_s = sales.SalePrice.min()\n",
    "    predicted_p = predict_results*(max_s - min_s) + min_s\n",
    "    return predicted_p"
   ]
  },
  {
   "cell_type": "code",
   "execution_count": 12,
   "metadata": {},
   "outputs": [],
   "source": [
    "def series_to_supervised(data, n_in=1, n_out=1, dropnan=True):\n",
    "    n_vars = 1 if type(data) is list else data.shape[1]\n",
    "    dff = pd.DataFrame(data)\n",
    "    cols, names = list(), list()\n",
    "    # input sequence (t-n, ... t-1)\n",
    "    for i in range(n_in, 0, -1):\n",
    "        cols.append(dff.shift(i))\n",
    "        names += [('var%d(t-%d)' % (j+1, i)) for j in range(n_vars)]\n",
    "    # forecast sequence (t, t+1, ... t+n)\n",
    "    for i in range(0, n_out):\n",
    "        cols.append(dff.shift(-i))\n",
    "        if i == 0:\n",
    "            names += [('var%d(t)' % (j+1)) for j in range(n_vars)]\n",
    "        else:\n",
    "            names += [('var%d(t+%d)' % (j+1, i)) for j in range(n_vars)]\n",
    "    # put it all together\n",
    "    agg = pd.concat(cols, axis=1)\n",
    "    agg.columns = names\n",
    "    # drop rows with NaN values\n",
    "    if dropnan:\n",
    "        agg.dropna(inplace=True)\n",
    "    return agg"
   ]
  },
  {
   "cell_type": "code",
   "execution_count": 13,
   "metadata": {},
   "outputs": [],
   "source": [
    "def split_data(x, y, ratio):\n",
    "    n = int(ratio*x.shape[0])\n",
    "    return (x[:n, :], x[n:, :], y[:n], y[n:])"
   ]
  },
  {
   "cell_type": "code",
   "execution_count": 14,
   "metadata": {},
   "outputs": [],
   "source": [
    "def normalize_price(sale_price):\n",
    "    # return normalized price\n",
    "    width = sale_price.max() - sale_price.min()\n",
    "    return (sale_price - sale_price.min())/width"
   ]
  },
  {
   "cell_type": "code",
   "execution_count": 69,
   "metadata": {
    "scrolled": true
   },
   "outputs": [],
   "source": [
    "def train_model(train_x, train_y, batch_size, test_x=None, test_y=None):\n",
    "    model = Sequential()\n",
    "#     model.add(LSTM(50, input_shape=(train_x.shape[1], train_x.shape[2]), return_sequences=True))\n",
    "#     model.add(Dropout(0.2))\n",
    "    model.add(LSTM(10, input_shape=(train_x.shape[1], train_x.shape[2]), return_sequences=True))\n",
    "    model.add(Dropout(0.2))\n",
    "    model.add(LSTM(100))\n",
    "    model.add(Dropout(0.2))\n",
    "    model.add(Dense(200))\n",
    "    model.add(Dropout(0.2))\n",
    "    model.add(Dense(1))\n",
    "    model.compile(loss='mean_squared_error', optimizer='adam')\n",
    "    reduce_lr = ReduceLROnPlateau(monitor='val_loss', factor=0.2, patience=3, min_lr=0.001)\n",
    "    tf_board = TensorBoard(log_dir='./logs/log_{}'.format(datetime.datetime.now().strftime(\"%H%M\")), histogram_freq=0, batch_size=batch_size, write_graph=True, write_grads=False, write_images=False, embeddings_freq=0, embeddings_layer_names=None, embeddings_metadata=None, embeddings_data=None)\n",
    "    if not test_x is None and not test_y is None:\n",
    "        kwargs = {\n",
    "            \"validation_data\": (test_x, test_y),\n",
    "        }\n",
    "    else:\n",
    "        kwargs = {}\n",
    "    history = model.fit(train_x, train_y, epochs=80, batch_size=batch_size, verbose=2, shuffle=True, callbacks=[reduce_lr, tf_board], **kwargs)\n",
    "    return model, history"
   ]
  },
  {
   "cell_type": "code",
   "execution_count": 81,
   "metadata": {},
   "outputs": [],
   "source": [
    "# drop_cols = ['Id'] + ppd.sales_attrs\n",
    "ppd = PrepareData()\n",
    "df , sale_price = ppd.get_train_data(time_series=True, drop_cols = ['Id'] + ppd.sales_attrs)\n",
    "# df = df.sort_values('YearBuilt')\n",
    "df.drop(\"SalePrice\", axis=1, inplace=True)"
   ]
  },
  {
   "cell_type": "code",
   "execution_count": 71,
   "metadata": {},
   "outputs": [],
   "source": [
    "from random import shuffle\n",
    "attrs = df.columns.tolist()\n",
    "shuffle(attrs)\n",
    "## shuttle colum orders\n",
    "df = df[attrs]"
   ]
  },
  {
   "cell_type": "code",
   "execution_count": 86,
   "metadata": {},
   "outputs": [],
   "source": [
    "batch_size = 10\n",
    "n_shift = 5\n",
    "reframed = series_to_supervised(df.values, n_shift)\n",
    "values = reframed.values\n",
    "# values = df.values"
   ]
  },
  {
   "cell_type": "code",
   "execution_count": 87,
   "metadata": {
    "scrolled": true
   },
   "outputs": [
    {
     "name": "stdout",
     "output_type": "stream",
     "text": [
      "((1164, 1, 1380), (1164, 1), (291, 1, 1380), (291, 1))\n",
      "Train on 1164 samples, validate on 291 samples\n",
      "Epoch 1/80\n",
      " - 2s - loss: 0.0105 - val_loss: 0.0054\n",
      "Epoch 2/80\n",
      " - 1s - loss: 0.0051 - val_loss: 0.0035\n",
      "Epoch 3/80\n",
      " - 1s - loss: 0.0036 - val_loss: 0.0032\n",
      "Epoch 4/80\n",
      " - 1s - loss: 0.0033 - val_loss: 0.0029\n",
      "Epoch 5/80\n",
      " - 1s - loss: 0.0026 - val_loss: 0.0035\n",
      "Epoch 6/80\n",
      " - 1s - loss: 0.0020 - val_loss: 0.0031\n",
      "Epoch 7/80\n",
      " - 1s - loss: 0.0020 - val_loss: 0.0031\n",
      "Epoch 8/80\n",
      " - 1s - loss: 0.0022 - val_loss: 0.0026\n",
      "Epoch 9/80\n",
      " - 1s - loss: 0.0018 - val_loss: 0.0031\n",
      "Epoch 10/80\n",
      " - 1s - loss: 0.0017 - val_loss: 0.0022\n",
      "Epoch 11/80\n",
      " - 1s - loss: 0.0016 - val_loss: 0.0023\n",
      "Epoch 12/80\n",
      " - 1s - loss: 0.0013 - val_loss: 0.0024\n",
      "Epoch 13/80\n",
      " - 1s - loss: 0.0014 - val_loss: 0.0023\n",
      "Epoch 14/80\n",
      " - 1s - loss: 0.0013 - val_loss: 0.0031\n",
      "Epoch 15/80\n",
      " - 1s - loss: 0.0013 - val_loss: 0.0024\n",
      "Epoch 16/80\n",
      " - 1s - loss: 0.0016 - val_loss: 0.0029\n",
      "Epoch 17/80\n",
      " - 1s - loss: 0.0014 - val_loss: 0.0029\n",
      "Epoch 18/80\n",
      " - 1s - loss: 0.0011 - val_loss: 0.0024\n",
      "Epoch 19/80\n",
      " - 1s - loss: 0.0018 - val_loss: 0.0032\n",
      "Epoch 20/80\n",
      " - 1s - loss: 0.0014 - val_loss: 0.0030\n",
      "Epoch 21/80\n",
      " - 1s - loss: 0.0011 - val_loss: 0.0032\n",
      "Epoch 22/80\n",
      " - 1s - loss: 0.0014 - val_loss: 0.0025\n",
      "Epoch 23/80\n",
      " - 1s - loss: 0.0012 - val_loss: 0.0026\n",
      "Epoch 24/80\n",
      " - 1s - loss: 0.0013 - val_loss: 0.0027\n",
      "Epoch 25/80\n",
      " - 1s - loss: 0.0012 - val_loss: 0.0035\n",
      "Epoch 26/80\n",
      " - 1s - loss: 0.0011 - val_loss: 0.0024\n",
      "Epoch 27/80\n",
      " - 1s - loss: 0.0012 - val_loss: 0.0023\n",
      "Epoch 28/80\n",
      " - 1s - loss: 0.0011 - val_loss: 0.0025\n",
      "Epoch 29/80\n",
      " - 1s - loss: 0.0011 - val_loss: 0.0027\n",
      "Epoch 30/80\n",
      " - 1s - loss: 0.0011 - val_loss: 0.0027\n",
      "Epoch 31/80\n",
      " - 1s - loss: 0.0014 - val_loss: 0.0024\n",
      "Epoch 32/80\n",
      " - 1s - loss: 8.9329e-04 - val_loss: 0.0025\n",
      "Epoch 33/80\n",
      " - 1s - loss: 9.5121e-04 - val_loss: 0.0024\n",
      "Epoch 34/80\n",
      " - 1s - loss: 0.0012 - val_loss: 0.0028\n",
      "Epoch 35/80\n",
      " - 1s - loss: 9.6518e-04 - val_loss: 0.0026\n",
      "Epoch 36/80\n",
      " - 1s - loss: 0.0011 - val_loss: 0.0032\n",
      "Epoch 37/80\n",
      " - 1s - loss: 0.0010 - val_loss: 0.0031\n",
      "Epoch 38/80\n",
      " - 1s - loss: 0.0010 - val_loss: 0.0026\n",
      "Epoch 39/80\n",
      " - 1s - loss: 8.8518e-04 - val_loss: 0.0028\n",
      "Epoch 40/80\n",
      " - 1s - loss: 0.0010 - val_loss: 0.0028\n",
      "Epoch 41/80\n",
      " - 1s - loss: 0.0011 - val_loss: 0.0025\n",
      "Epoch 42/80\n",
      " - 1s - loss: 0.0012 - val_loss: 0.0025\n",
      "Epoch 43/80\n",
      " - 1s - loss: 0.0011 - val_loss: 0.0024\n",
      "Epoch 44/80\n",
      " - 1s - loss: 8.1671e-04 - val_loss: 0.0024\n",
      "Epoch 45/80\n",
      " - 1s - loss: 9.9364e-04 - val_loss: 0.0025\n",
      "Epoch 46/80\n",
      " - 1s - loss: 0.0011 - val_loss: 0.0024\n",
      "Epoch 47/80\n",
      " - 1s - loss: 0.0011 - val_loss: 0.0025\n",
      "Epoch 48/80\n",
      " - 1s - loss: 0.0011 - val_loss: 0.0024\n",
      "Epoch 49/80\n",
      " - 1s - loss: 8.7816e-04 - val_loss: 0.0025\n",
      "Epoch 50/80\n",
      " - 1s - loss: 9.6948e-04 - val_loss: 0.0028\n",
      "Epoch 51/80\n",
      " - 1s - loss: 0.0012 - val_loss: 0.0027\n",
      "Epoch 52/80\n",
      " - 1s - loss: 9.0616e-04 - val_loss: 0.0025\n",
      "Epoch 53/80\n",
      " - 1s - loss: 8.4963e-04 - val_loss: 0.0028\n",
      "Epoch 54/80\n",
      " - 1s - loss: 9.8065e-04 - val_loss: 0.0036\n",
      "Epoch 55/80\n",
      " - 1s - loss: 0.0010 - val_loss: 0.0026\n",
      "Epoch 56/80\n",
      " - 1s - loss: 9.5777e-04 - val_loss: 0.0025\n",
      "Epoch 57/80\n",
      " - 1s - loss: 0.0010 - val_loss: 0.0027\n",
      "Epoch 58/80\n",
      " - 1s - loss: 7.8342e-04 - val_loss: 0.0024\n",
      "Epoch 59/80\n",
      " - 1s - loss: 7.6583e-04 - val_loss: 0.0026\n",
      "Epoch 60/80\n",
      " - 1s - loss: 0.0011 - val_loss: 0.0025\n",
      "Epoch 61/80\n",
      " - 1s - loss: 0.0011 - val_loss: 0.0029\n",
      "Epoch 62/80\n",
      " - 1s - loss: 0.0012 - val_loss: 0.0031\n",
      "Epoch 63/80\n",
      " - 1s - loss: 0.0010 - val_loss: 0.0024\n",
      "Epoch 64/80\n",
      " - 1s - loss: 8.0529e-04 - val_loss: 0.0025\n",
      "Epoch 65/80\n",
      " - 1s - loss: 9.2810e-04 - val_loss: 0.0025\n",
      "Epoch 66/80\n",
      " - 1s - loss: 0.0012 - val_loss: 0.0025\n",
      "Epoch 67/80\n",
      " - 1s - loss: 8.9875e-04 - val_loss: 0.0027\n",
      "Epoch 68/80\n",
      " - 1s - loss: 7.4389e-04 - val_loss: 0.0026\n",
      "Epoch 69/80\n",
      " - 1s - loss: 9.6331e-04 - val_loss: 0.0026\n",
      "Epoch 70/80\n",
      " - 1s - loss: 9.5056e-04 - val_loss: 0.0025\n",
      "Epoch 71/80\n",
      " - 1s - loss: 7.6183e-04 - val_loss: 0.0024\n",
      "Epoch 72/80\n",
      " - 1s - loss: 8.9586e-04 - val_loss: 0.0025\n",
      "Epoch 73/80\n",
      " - 1s - loss: 9.0117e-04 - val_loss: 0.0028\n",
      "Epoch 74/80\n",
      " - 1s - loss: 8.1576e-04 - val_loss: 0.0024\n",
      "Epoch 75/80\n",
      " - 1s - loss: 6.1809e-04 - val_loss: 0.0025\n",
      "Epoch 76/80\n",
      " - 1s - loss: 7.9629e-04 - val_loss: 0.0026\n",
      "Epoch 77/80\n",
      " - 1s - loss: 7.8023e-04 - val_loss: 0.0030\n",
      "Epoch 78/80\n",
      " - 1s - loss: 8.3341e-04 - val_loss: 0.0026\n",
      "Epoch 79/80\n",
      " - 1s - loss: 7.2020e-04 - val_loss: 0.0030\n",
      "Epoch 80/80\n",
      " - 1s - loss: 7.9549e-04 - val_loss: 0.0027\n",
      "RMSE (Training Data): 0.00039367278395808044\n",
      "RMSE (Testin Data): 0.0026600389138448158\n"
     ]
    }
   ],
   "source": [
    "# shift the sale price by the number of days shifted\n",
    "sale_price_shifted = normalize_price(sale_price[n_shift:])\n",
    "\n",
    "train_x, test_x, train_y, test_y = split_data(values, sale_price_shifted, 0.8)\n",
    "\n",
    "# reshape to [samples, timesteps, features]\n",
    "train_x = train_x.reshape((train_x.shape[0], 1, train_x.shape[1]))\n",
    "test_x = test_x.reshape((test_x.shape[0], 1, test_x.shape[1]))\n",
    "print(train_x.shape, train_y.shape, test_x.shape, test_y.shape) \n",
    "\n",
    "model, history = train_model(train_x, train_y, batch_size, test_x, test_y)\n",
    "# make a prediction\n",
    "pred_train = model.predict(train_x)\n",
    "print 'RMSE (Training Data):', mean_squared_error(train_y , pred_train)\n",
    "pred_test = model.predict(test_x)\n",
    "print 'RMSE (Testin Data):', mean_squared_error(test_y , pred_test)\n",
    "\n",
    "with open('results.txt', 'a') as f:\n",
    "    model.summary(print_fn=lambda x: f.write(x + '\\n'))\n",
    "    f.write('RMSE (Training Data):' + str(mean_squared_error(train_y , pred_train)) + \"\\n\")\n",
    "    f.write('RMSE (Testin Data):' + str(mean_squared_error(test_y , pred_test))+ \"\\n\\n\" )"
   ]
  },
  {
   "cell_type": "code",
   "execution_count": 68,
   "metadata": {},
   "outputs": [
    {
     "data": {
      "image/png": "[encoded data removed]",
      "text/plain": [
       "<matplotlib.figure.Figure at 0x13bdcb410>"
      ]
     },
     "metadata": {},
     "output_type": "display_data"
    }
   ],
   "source": [
    "plt.scatter(pred_test, test_y, alpha=.75,\n",
    "            color='b') #alpha helps to show overlapping data\n",
    "plt.xlabel('Predicted Price')\n",
    "plt.ylabel('Actual Price')\n",
    "plt.title('Linear Regression Model')\n",
    "plt.show()"
   ]
  },
  {
   "cell_type": "code",
   "execution_count": 36,
   "metadata": {},
   "outputs": [],
   "source": [
    "test_df, test_ids = ppd.get_test_data(time_series=True)\n",
    "test_data = test_df.values.reshape(test_df.shape[0], 1, test_df.shape[1])"
   ]
  },
  {
   "cell_type": "code",
   "execution_count": null,
   "metadata": {},
   "outputs": [],
   "source": [
    "df.head(n_shift)"
   ]
  },
  {
   "cell_type": "code",
   "execution_count": null,
   "metadata": {},
   "outputs": [],
   "source": [
    "test_df_padded = pd.concat([df.head(n_shift), test_df], ignore_index=True)"
   ]
  },
  {
   "cell_type": "code",
   "execution_count": null,
   "metadata": {},
   "outputs": [],
   "source": [
    "test_reframed = series_to_supervised(test_df_padded.values, n_shift)"
   ]
  },
  {
   "cell_type": "code",
   "execution_count": null,
   "metadata": {},
   "outputs": [],
   "source": [
    "test_reframed_data = test_reframed.values.reshape(test_reframed.shape[0], 1, test_reframed.shape[1])"
   ]
  },
  {
   "cell_type": "code",
   "execution_count": null,
   "metadata": {},
   "outputs": [],
   "source": [
    "df.sort_values('YearBuilt', inplace=True)"
   ]
  },
  {
   "cell_type": "code",
   "execution_count": null,
   "metadata": {
    "scrolled": true
   },
   "outputs": [],
   "source": [
    "model2, history2 = train_model(train_x, train_y, batch_size)"
   ]
  },
  {
   "cell_type": "code",
   "execution_count": null,
   "metadata": {
    "scrolled": true
   },
   "outputs": [],
   "source": [
    "predict_results = model.predict(test_reframed_data)\n",
    "price = convert_to_price(sale_price, predict_results)\n",
    "test_ids['SalePrice'] = price\n",
    "test_ids.to_csv(\"submission/submission_lstm_{}.csv\".format(datetime.datetime.now().strftime(\"%Y-%m-%d_%H_%M\")), index=False)"
   ]
  },
  {
   "cell_type": "code",
   "execution_count": null,
   "metadata": {},
   "outputs": [],
   "source": [
    "# summarize history for loss\n",
    "plt.plot(history.history['loss'])\n",
    "plt.plot(history.history['val_loss'])\n",
    "plt.title('model loss')\n",
    "plt.ylabel('loss')\n",
    "plt.xlabel('epoch')\n",
    "plt.legend(['train', 'test'], loc='upper right')\n",
    "plt.show()"
   ]
  },
  {
   "cell_type": "code",
   "execution_count": null,
   "metadata": {},
   "outputs": [],
   "source": [
    "train_x, test_x, train_y, test_y = split_data(values, sale_price_shifted, 0.8)"
   ]
  }
 ],
 "metadata": {
  "kernelspec": {
   "display_name": "Python 2",
   "language": "python",
   "name": "python2"
  },
  "language_info": {
   "codemirror_mode": {
    "name": "ipython",
    "version": 2
   },
   "file_extension": ".py",
   "mimetype": "text/x-python",
   "name": "python",
   "nbconvert_exporter": "python",
   "pygments_lexer": "ipython2",
   "version": "2.7.12"
  }
 },
 "nbformat": 4,
 "nbformat_minor": 2
}
