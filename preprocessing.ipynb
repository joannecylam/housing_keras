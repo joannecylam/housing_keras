{
 "cells": [
  {
   "cell_type": "code",
   "execution_count": 1,
   "metadata": {},
   "outputs": [],
   "source": [
    "import csv"
   ]
  },
  {
   "cell_type": "code",
   "execution_count": 3,
   "metadata": {},
   "outputs": [],
   "source": [
    "categr_fields = [\n",
    "    \"MSSubClass\",\n",
    "    \"MSZoning\",\n",
    "    \"Street\",\n",
    "    \"Alley\",\n",
    "    \"LotShape\",\n",
    "    \"LandContour\",\n",
    "    \"Utilities\",\n",
    "    \"LotConfig\",\n",
    "    \"LandSlope\",\n",
    "    \"Neighborhood\",\n",
    "    \"Condition1\",\n",
    "    \"Condition2\",\n",
    "    \"BldgType\",\n",
    "    \"HouseStyle\",\n",
    "    \"RoofStyle\",\n",
    "    \"RoofMatl\",\n",
    "    \"Exterior1st\",\n",
    "    \"Exterior2nd\",\n",
    "    \"MasVnrType\",\n",
    "    \"Foundation\",\n",
    "    \"Heating\",\n",
    "    \"CentralAir\",\n",
    "    \"Electrical\",\n",
    "    \"GarageType\",\n",
    "    \"SaleType\",\n",
    "    \"MiscFeature\",\n",
    "    \"SaleCondition\"\n",
    "]"
   ]
  },
  {
   "cell_type": "code",
   "execution_count": 6,
   "metadata": {},
   "outputs": [],
   "source": [
    "satisfaction = {\n",
    "        \"Ex\": 5,\n",
    "        \"Gd\": 4,\n",
    "        \"TA\": 3,\n",
    "        \"Fa\": 2,\n",
    "        \"Po\": 1\n",
    "        \"NA\": 0\n",
    "    }"
   ]
  },
  {
   "cell_type": "code",
   "execution_count": 7,
   "metadata": {},
   "outputs": [],
   "source": [
    "live_qua = {\n",
    "    \"GLQ\":6,\n",
    "    \"ALQ\":\t5,\n",
    "    \"BLQ\": 4,\n",
    "    \"Rec\" : 3,\n",
    "    \"LwQ\": 2,\n",
    "    \"Unf\": 1,\n",
    "    \"NA\": 0\n",
    "}"
   ]
  },
  {
   "cell_type": "code",
   "execution_count": 8,
   "metadata": {},
   "outputs": [],
   "source": [
    "eval_fields = {\n",
    "    \"ExterQual\":satisfaction,\n",
    "    \"ExterCond\": satisfaction,\n",
    "    \"BsmtQual\": satisfaction,\n",
    "    \"BsmtCond\": satisfaction,\n",
    "    \"BsmtExposure\": {\n",
    "        \"Gd\": 4,\n",
    "        \"Av\": 3,\n",
    "        \"Mn\": 2,\n",
    "        \"No\": 1,\n",
    "        \"NA\": 0,\n",
    "    } ,\n",
    "    \"BsmtFinType1\": live_qua,\n",
    "    \"BsmtFinType2\": live_qua,\n",
    "    \"HeatingQC\": satisfaction,\n",
    "    \"KitchenQual\": satisfaction,\n",
    "    \"Functional\":{\n",
    "        \"Typ\": 7,\n",
    "        \"Min1\": 6,\n",
    "        \"Min2\": 5,\n",
    "        \"Mod\": 4,\n",
    "        \"Maj1\": 3,\n",
    "        \"Maj2\": 2,\n",
    "        \"Sev\": 1,\n",
    "        \"Sal\": 0\n",
    "    },\n",
    "    \"FireplaceQu\": satisfaction,\n",
    "    \"GarageFinish\":{\n",
    "        \"Fin\":3,\n",
    "        \"RFn\": 2,\n",
    "        \"Unf\": 1,\n",
    "        \"NA\": 0\n",
    "    },\n",
    "    \"GarageQual\":satisfaction,\n",
    "    \"GarageCond\":satisfaction,\n",
    "    \"PavedDrive\":{\n",
    "        \"Y\": 2,\n",
    "        \"P\": 1,\n",
    "        \"N\": 0\n",
    "    },\n",
    "    \"PoolQC\":satisfaction,\n",
    "    \"Fence\":{\n",
    "        \"GdPrv\": 2,\n",
    "        \"MnPrv\": 1,\n",
    "        \"GdWo\": 2,\n",
    "        \"MnWw\": 1,\n",
    "        \"NA\": 0\n",
    "    },\n",
    "}"
   ]
  },
  {
   "cell_type": "code",
   "execution_count": 9,
   "metadata": {},
   "outputs": [],
   "source": [
    "import pandas as pd"
   ]
  },
  {
   "cell_type": "code",
   "execution_count": 15,
   "metadata": {},
   "outputs": [],
   "source": [
    "df = pd.read_csv(\"all/train.csv\")"
   ]
  },
  {
   "cell_type": "code",
   "execution_count": 23,
   "metadata": {
    "scrolled": true
   },
   "outputs": [
    {
     "data": {
      "text/plain": [
       "array([ 60,  20,  70,  50, 190,  45,  90, 120,  30,  85,  80, 160,  75,\n",
       "       180,  40])"
      ]
     },
     "execution_count": 23,
     "metadata": {},
     "output_type": "execute_result"
    }
   ],
   "source": [
    "df[categr_fields[0]].unique()"
   ]
  },
  {
   "cell_type": "code",
   "execution_count": 20,
   "metadata": {},
   "outputs": [
    {
     "data": {
      "text/plain": [
       "array(['Pave', 'Grvl'], dtype=object)"
      ]
     },
     "execution_count": 20,
     "metadata": {},
     "output_type": "execute_result"
    }
   ],
   "source": [
    "df['Street'].unique()"
   ]
  },
  {
   "cell_type": "code",
   "execution_count": 24,
   "metadata": {},
   "outputs": [],
   "source": [
    "bin_features = {}"
   ]
  },
  {
   "cell_type": "code",
   "execution_count": null,
   "metadata": {},
   "outputs": [],
   "source": [
    "for field in categr_fields:\n",
    "    "
   ]
  },
  {
   "cell_type": "code",
   "execution_count": 12,
   "metadata": {},
   "outputs": [],
   "source": [
    "import glob"
   ]
  },
  {
   "cell_type": "code",
   "execution_count": 13,
   "metadata": {},
   "outputs": [
    {
     "data": {
      "text/plain": [
       "['all/test.csv.gz',\n",
       " 'all/sample_submission.csv.gz',\n",
       " 'all/test.csv',\n",
       " 'all/data_description.txt',\n",
       " 'all/train.csv',\n",
       " 'all/train.csv.gz',\n",
       " 'all/sample_submission.csv']"
      ]
     },
     "execution_count": 13,
     "metadata": {},
     "output_type": "execute_result"
    }
   ],
   "source": [
    "glob.glob('all/*')"
   ]
  },
  {
   "cell_type": "code",
   "execution_count": null,
   "metadata": {},
   "outputs": [],
   "source": []
  }
 ],
 "metadata": {
  "kernelspec": {
   "display_name": "Python 2",
   "language": "python",
   "name": "python2"
  },
  "language_info": {
   "codemirror_mode": {
    "name": "ipython",
    "version": 2
   },
   "file_extension": ".py",
   "mimetype": "text/x-python",
   "name": "python",
   "nbconvert_exporter": "python",
   "pygments_lexer": "ipython2",
   "version": "2.7.12"
  }
 },
 "nbformat": 4,
 "nbformat_minor": 2
}
