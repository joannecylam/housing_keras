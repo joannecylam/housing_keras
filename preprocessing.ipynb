{
 "cells": [
  {
   "cell_type": "code",
   "execution_count": null,
   "metadata": {},
   "outputs": [],
   "source": [
    "import numpy as np\n",
    "import pandas as pd"
   ]
  },
  {
   "cell_type": "code",
   "execution_count": 20,
   "metadata": {},
   "outputs": [],
   "source": [
    "categr_fields = [\n",
    "    \"MSSubClass\",\n",
    "    \"MSZoning\",\n",
    "    \"Street\",\n",
    "    \"Alley\",\n",
    "    \"LotShape\",\n",
    "    \"LandContour\",\n",
    "    \"Utilities\",\n",
    "    \"LotConfig\",\n",
    "    \"LandSlope\",\n",
    "    \"Neighborhood\",\n",
    "    \"Condition1\",\n",
    "    \"Condition2\",\n",
    "    \"BldgType\",\n",
    "    \"HouseStyle\",\n",
    "    \"RoofStyle\",\n",
    "    \"RoofMatl\",\n",
    "    \"Exterior1st\",\n",
    "    \"Exterior2nd\",\n",
    "    \"MasVnrType\",\n",
    "    \"Foundation\",\n",
    "    \"Heating\",\n",
    "    \"CentralAir\",\n",
    "    \"Electrical\",\n",
    "    \"GarageType\",\n",
    "    \"SaleType\",\n",
    "    \"MiscFeature\",\n",
    "    \"SaleCondition\"\n",
    "]"
   ]
  },
  {
   "cell_type": "code",
   "execution_count": 21,
   "metadata": {},
   "outputs": [],
   "source": [
    "satisfaction = {\n",
    "        \"Ex\": 5,\n",
    "        \"Gd\": 4,\n",
    "        \"TA\": 3,\n",
    "        \"Fa\": 2,\n",
    "        \"Po\": 1,\n",
    "        \"NA\": 0,\n",
    "    }"
   ]
  },
  {
   "cell_type": "code",
   "execution_count": 22,
   "metadata": {},
   "outputs": [],
   "source": [
    "live_qua = {\n",
    "    \"GLQ\":6,\n",
    "    \"ALQ\":\t5,\n",
    "    \"BLQ\": 4,\n",
    "    \"Rec\" : 3,\n",
    "    \"LwQ\": 2,\n",
    "    \"Unf\": 1,\n",
    "    \"NA\": 0\n",
    "}"
   ]
  },
  {
   "cell_type": "code",
   "execution_count": 23,
   "metadata": {},
   "outputs": [],
   "source": [
    "eval_fields = {\n",
    "    \"ExterQual\":satisfaction,\n",
    "    \"ExterCond\": satisfaction,\n",
    "    \"BsmtQual\": satisfaction,\n",
    "    \"BsmtCond\": satisfaction,\n",
    "    \"BsmtExposure\": {\n",
    "        \"Gd\": 4,\n",
    "        \"Av\": 3,\n",
    "        \"Mn\": 2,\n",
    "        \"No\": 1,\n",
    "        \"NA\": 0,\n",
    "    } ,\n",
    "    \"BsmtFinType1\": live_qua,\n",
    "    \"BsmtFinType2\": live_qua,\n",
    "    \"HeatingQC\": satisfaction,\n",
    "    \"KitchenQual\": satisfaction,\n",
    "    \"Functional\":{\n",
    "        \"Typ\": 7,\n",
    "        \"Min1\": 6,\n",
    "        \"Min2\": 5,\n",
    "        \"Mod\": 4,\n",
    "        \"Maj1\": 3,\n",
    "        \"Maj2\": 2,\n",
    "        \"Sev\": 1,\n",
    "        \"Sal\": 0\n",
    "    },\n",
    "    \"FireplaceQu\": satisfaction,\n",
    "    \"GarageFinish\":{\n",
    "        \"Fin\":3,\n",
    "        \"RFn\": 2,\n",
    "        \"Unf\": 1,\n",
    "        \"NA\": 0\n",
    "    },\n",
    "    \"GarageQual\":satisfaction,\n",
    "    \"GarageCond\":satisfaction,\n",
    "    \"PavedDrive\":{\n",
    "        \"Y\": 2,\n",
    "        \"P\": 1,\n",
    "        \"N\": 0\n",
    "    },\n",
    "    \"PoolQC\":satisfaction,\n",
    "    \"Fence\":{\n",
    "        \"GdPrv\": 2,\n",
    "        \"MnPrv\": 1,\n",
    "        \"GdWo\": 2,\n",
    "        \"MnWw\": 1,\n",
    "        \"NA\": 0\n",
    "    },\n",
    "}"
   ]
  },
  {
   "cell_type": "code",
   "execution_count": 39,
   "metadata": {},
   "outputs": [],
   "source": [
    "def get_bin_values(df, categr_fields):\n",
    "    bin_features = {}\n",
    "    for field in categr_fields:\n",
    "        attrs = df[field].unique()\n",
    "        for attr in attrs:\n",
    "            fieldname = field + \"_\" + str(attr)\n",
    "            bin_vec = df[field] == attr\n",
    "            bin_features[fieldname] = bin_vec.astype(int)\n",
    "    return bin_features"
   ]
  },
  {
   "cell_type": "code",
   "execution_count": 40,
   "metadata": {},
   "outputs": [],
   "source": [
    "def convert_str_values(df, eval_fields):\n",
    "    for field, value_map in eval_fields.iteritems():\n",
    "        tmp = []\n",
    "        non_zeros = []\n",
    "        for v in df[field]:\n",
    "            if value_map.get(v):\n",
    "                value = value_map[v]\n",
    "                tmp.append(value)\n",
    "                non_zeros.append(value)\n",
    "            else:\n",
    "                tmp.append(\"NA\")\n",
    "        aver_v = np.average(non_zeros)\n",
    "        # assign average value to None values\n",
    "        value_arr = [aver_v if x==\"NA\" else x for x in tmp]\n",
    "        df[field] = value_arr\n",
    "    return df"
   ]
  },
  {
   "cell_type": "code",
   "execution_count": 41,
   "metadata": {},
   "outputs": [],
   "source": [
    "df = pd.read_csv(\"all/train.csv\")\n",
    "bin_features = get_bin_values(df, categr_fields)\n",
    "bin_df = pd.DataFrame.from_dict(bin_features)\n",
    "# drop the binary features\n",
    "df = df.drop(labels=categr_fields, axis=1)\n",
    "# convert the other str fields\n",
    "convert_str_values(df, eval_fields)\n",
    "# combine with binary feature vectors\n",
    "final_df = pd.concat([df, bin_df], axis=1)"
   ]
  },
  {
   "cell_type": "code",
   "execution_count": 45,
   "metadata": {},
   "outputs": [],
   "source": [
    "final_df.to_csv(\"cleaned_data.csv\")"
   ]
  },
  {
   "cell_type": "code",
   "execution_count": null,
   "metadata": {},
   "outputs": [],
   "source": []
  }
 ],
 "metadata": {
  "kernelspec": {
   "display_name": "Python 2",
   "language": "python",
   "name": "python2"
  },
  "language_info": {
   "codemirror_mode": {
    "name": "ipython",
    "version": 2
   },
   "file_extension": ".py",
   "mimetype": "text/x-python",
   "name": "python",
   "nbconvert_exporter": "python",
   "pygments_lexer": "ipython2",
   "version": "2.7.12"
  }
 },
 "nbformat": 4,
 "nbformat_minor": 2
}
