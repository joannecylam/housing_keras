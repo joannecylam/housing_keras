{
 "cells": [
  {
   "cell_type": "markdown",
   "metadata": {},
   "source": [
    "### Train Model with LSTM"
   ]
  },
  {
   "cell_type": "code",
   "execution_count": 1,
   "metadata": {
    "scrolled": true
   },
   "outputs": [
    {
     "name": "stderr",
     "output_type": "stream",
     "text": [
      "/home/joannelam/Projects/my_project/lib/python2.7/site-packages/pandas/_libs/__init__.py:3: RuntimeWarning: numpy.dtype size changed, may indicate binary incompatibility. Expected 96, got 88\n",
      "  from .tslib import iNaT, NaT, Timestamp, Timedelta, OutOfBoundsDatetime\n",
      "/home/joannelam/Projects/my_project/lib/python2.7/site-packages/pandas/_libs/__init__.py:3: RuntimeWarning: numpy.ufunc size changed, may indicate binary incompatibility. Expected 192, got 176\n",
      "  from .tslib import iNaT, NaT, Timestamp, Timedelta, OutOfBoundsDatetime\n",
      "/home/joannelam/Projects/my_project/lib/python2.7/site-packages/pandas/__init__.py:26: RuntimeWarning: numpy.dtype size changed, may indicate binary incompatibility. Expected 96, got 88\n",
      "  from pandas._libs import (hashtable as _hashtable,\n",
      "/home/joannelam/Projects/my_project/lib/python2.7/site-packages/pandas/__init__.py:26: RuntimeWarning: numpy.ufunc size changed, may indicate binary incompatibility. Expected 192, got 176\n",
      "  from pandas._libs import (hashtable as _hashtable,\n",
      "/home/joannelam/Projects/my_project/lib/python2.7/site-packages/pandas/core/dtypes/common.py:6: RuntimeWarning: numpy.dtype size changed, may indicate binary incompatibility. Expected 96, got 88\n",
      "  from pandas._libs import algos, lib\n",
      "/home/joannelam/Projects/my_project/lib/python2.7/site-packages/pandas/core/dtypes/common.py:6: RuntimeWarning: numpy.ufunc size changed, may indicate binary incompatibility. Expected 192, got 176\n",
      "  from pandas._libs import algos, lib\n",
      "/home/joannelam/Projects/my_project/lib/python2.7/site-packages/pandas/core/util/hashing.py:7: RuntimeWarning: numpy.dtype size changed, may indicate binary incompatibility. Expected 96, got 88\n",
      "  from pandas._libs import hashing\n",
      "/home/joannelam/Projects/my_project/lib/python2.7/site-packages/pandas/core/util/hashing.py:7: RuntimeWarning: numpy.ufunc size changed, may indicate binary incompatibility. Expected 192, got 176\n",
      "  from pandas._libs import hashing\n",
      "/home/joannelam/Projects/my_project/lib/python2.7/site-packages/pandas/core/indexes/base.py:6: RuntimeWarning: numpy.dtype size changed, may indicate binary incompatibility. Expected 96, got 88\n",
      "  from pandas._libs import (lib, index as libindex, tslib as libts,\n",
      "/home/joannelam/Projects/my_project/lib/python2.7/site-packages/pandas/core/indexes/base.py:6: RuntimeWarning: numpy.ufunc size changed, may indicate binary incompatibility. Expected 192, got 176\n",
      "  from pandas._libs import (lib, index as libindex, tslib as libts,\n",
      "/home/joannelam/Projects/my_project/lib/python2.7/site-packages/pandas/core/indexes/datetimelike.py:28: RuntimeWarning: numpy.dtype size changed, may indicate binary incompatibility. Expected 96, got 88\n",
      "  from pandas._libs.period import Period\n",
      "/home/joannelam/Projects/my_project/lib/python2.7/site-packages/pandas/core/indexes/datetimelike.py:28: RuntimeWarning: numpy.ufunc size changed, may indicate binary incompatibility. Expected 192, got 176\n",
      "  from pandas._libs.period import Period\n",
      "/home/joannelam/Projects/my_project/lib/python2.7/site-packages/pandas/core/sparse/array.py:32: RuntimeWarning: numpy.dtype size changed, may indicate binary incompatibility. Expected 96, got 88\n",
      "  import pandas._libs.sparse as splib\n",
      "/home/joannelam/Projects/my_project/lib/python2.7/site-packages/pandas/core/sparse/array.py:32: RuntimeWarning: numpy.ufunc size changed, may indicate binary incompatibility. Expected 192, got 176\n",
      "  import pandas._libs.sparse as splib\n",
      "/home/joannelam/Projects/my_project/lib/python2.7/site-packages/pandas/core/window.py:36: RuntimeWarning: numpy.dtype size changed, may indicate binary incompatibility. Expected 96, got 88\n",
      "  import pandas._libs.window as _window\n",
      "/home/joannelam/Projects/my_project/lib/python2.7/site-packages/pandas/core/window.py:36: RuntimeWarning: numpy.ufunc size changed, may indicate binary incompatibility. Expected 192, got 176\n",
      "  import pandas._libs.window as _window\n",
      "/home/joannelam/Projects/my_project/lib/python2.7/site-packages/pandas/core/groupby.py:66: RuntimeWarning: numpy.dtype size changed, may indicate binary incompatibility. Expected 96, got 88\n",
      "  from pandas._libs import lib, groupby as libgroupby, Timestamp, NaT, iNaT\n",
      "/home/joannelam/Projects/my_project/lib/python2.7/site-packages/pandas/core/groupby.py:66: RuntimeWarning: numpy.ufunc size changed, may indicate binary incompatibility. Expected 192, got 176\n",
      "  from pandas._libs import lib, groupby as libgroupby, Timestamp, NaT, iNaT\n",
      "/home/joannelam/Projects/my_project/lib/python2.7/site-packages/pandas/core/reshape/reshape.py:30: RuntimeWarning: numpy.dtype size changed, may indicate binary incompatibility. Expected 96, got 88\n",
      "  from pandas._libs import algos as _algos, reshape as _reshape\n",
      "/home/joannelam/Projects/my_project/lib/python2.7/site-packages/pandas/core/reshape/reshape.py:30: RuntimeWarning: numpy.ufunc size changed, may indicate binary incompatibility. Expected 192, got 176\n",
      "  from pandas._libs import algos as _algos, reshape as _reshape\n",
      "/home/joannelam/Projects/my_project/lib/python2.7/site-packages/pandas/io/parsers.py:43: RuntimeWarning: numpy.dtype size changed, may indicate binary incompatibility. Expected 96, got 88\n",
      "  import pandas._libs.parsers as parsers\n",
      "/home/joannelam/Projects/my_project/lib/python2.7/site-packages/pandas/io/parsers.py:43: RuntimeWarning: numpy.ufunc size changed, may indicate binary incompatibility. Expected 192, got 176\n",
      "  import pandas._libs.parsers as parsers\n",
      "/home/joannelam/Projects/my_project/lib/python2.7/site-packages/h5py/__init__.py:36: RuntimeWarning: numpy.dtype size changed, may indicate binary incompatibility. Expected 96, got 88\n",
      "  from ._conv import register_converters as _register_converters\n",
      "/home/joannelam/Projects/my_project/lib/python2.7/site-packages/h5py/__init__.py:45: RuntimeWarning: numpy.dtype size changed, may indicate binary incompatibility. Expected 96, got 88\n",
      "  from . import h5a, h5d, h5ds, h5f, h5fd, h5g, h5r, h5s, h5t, h5p, h5z\n",
      "/home/joannelam/Projects/my_project/lib/python2.7/site-packages/h5py/_hl/group.py:22: RuntimeWarning: numpy.dtype size changed, may indicate binary incompatibility. Expected 96, got 88\n",
      "  from .. import h5g, h5i, h5o, h5r, h5t, h5l, h5p\n",
      "Using TensorFlow backend.\n",
      "/home/joannelam/Projects/my_project/lib/python2.7/site-packages/scipy/sparse/lil.py:19: RuntimeWarning: numpy.dtype size changed, may indicate binary incompatibility. Expected 96, got 88\n",
      "  from . import _csparsetools\n",
      "/home/joannelam/Projects/my_project/lib/python2.7/site-packages/scipy/sparse/csgraph/__init__.py:165: RuntimeWarning: numpy.dtype size changed, may indicate binary incompatibility. Expected 96, got 88\n",
      "  from ._shortest_path import shortest_path, floyd_warshall, dijkstra,\\\n",
      "/home/joannelam/Projects/my_project/lib/python2.7/site-packages/scipy/sparse/csgraph/_validation.py:5: RuntimeWarning: numpy.dtype size changed, may indicate binary incompatibility. Expected 96, got 88\n",
      "  from ._tools import csgraph_to_dense, csgraph_from_dense,\\\n",
      "/home/joannelam/Projects/my_project/lib/python2.7/site-packages/scipy/sparse/csgraph/__init__.py:167: RuntimeWarning: numpy.dtype size changed, may indicate binary incompatibility. Expected 96, got 88\n",
      "  from ._traversal import breadth_first_order, depth_first_order, \\\n",
      "/home/joannelam/Projects/my_project/lib/python2.7/site-packages/scipy/sparse/csgraph/__init__.py:169: RuntimeWarning: numpy.dtype size changed, may indicate binary incompatibility. Expected 96, got 88\n",
      "  from ._min_spanning_tree import minimum_spanning_tree\n",
      "/home/joannelam/Projects/my_project/lib/python2.7/site-packages/scipy/sparse/csgraph/__init__.py:170: RuntimeWarning: numpy.dtype size changed, may indicate binary incompatibility. Expected 96, got 88\n",
      "  from ._reordering import reverse_cuthill_mckee, maximum_bipartite_matching, \\\n",
      "/home/joannelam/Projects/my_project/lib/python2.7/site-packages/scipy/linalg/basic.py:17: RuntimeWarning: numpy.dtype size changed, may indicate binary incompatibility. Expected 96, got 88\n",
      "  from ._solve_toeplitz import levinson\n",
      "/home/joannelam/Projects/my_project/lib/python2.7/site-packages/scipy/linalg/__init__.py:207: RuntimeWarning: numpy.dtype size changed, may indicate binary incompatibility. Expected 96, got 88\n",
      "  from ._decomp_update import *\n",
      "/home/joannelam/Projects/my_project/lib/python2.7/site-packages/scipy/special/__init__.py:640: RuntimeWarning: numpy.dtype size changed, may indicate binary incompatibility. Expected 96, got 88\n",
      "  from ._ufuncs import *\n",
      "/home/joannelam/Projects/my_project/lib/python2.7/site-packages/scipy/special/_ellip_harm.py:7: RuntimeWarning: numpy.dtype size changed, may indicate binary incompatibility. Expected 96, got 88\n",
      "  from ._ellip_harm_2 import _ellipsoid, _ellipsoid_norm\n",
      "/home/joannelam/Projects/my_project/lib/python2.7/site-packages/scipy/interpolate/_bsplines.py:10: RuntimeWarning: numpy.dtype size changed, may indicate binary incompatibility. Expected 96, got 88\n",
      "  from . import _bspl\n",
      "/home/joannelam/Projects/my_project/lib/python2.7/site-packages/scipy/spatial/__init__.py:95: RuntimeWarning: numpy.dtype size changed, may indicate binary incompatibility. Expected 96, got 88\n",
      "  from .ckdtree import *\n",
      "/home/joannelam/Projects/my_project/lib/python2.7/site-packages/scipy/spatial/__init__.py:96: RuntimeWarning: numpy.dtype size changed, may indicate binary incompatibility. Expected 96, got 88\n",
      "  from .qhull import *\n",
      "/home/joannelam/Projects/my_project/lib/python2.7/site-packages/scipy/spatial/_spherical_voronoi.py:18: RuntimeWarning: numpy.dtype size changed, may indicate binary incompatibility. Expected 96, got 88\n",
      "  from . import _voronoi\n",
      "/home/joannelam/Projects/my_project/lib/python2.7/site-packages/scipy/spatial/distance.py:122: RuntimeWarning: numpy.dtype size changed, may indicate binary incompatibility. Expected 96, got 88\n",
      "  from . import _hausdorff\n",
      "/home/joannelam/Projects/my_project/lib/python2.7/site-packages/scipy/ndimage/measurements.py:36: RuntimeWarning: numpy.dtype size changed, may indicate binary incompatibility. Expected 96, got 88\n",
      "  from . import _ni_label\n"
     ]
    },
    {
     "name": "stderr",
     "output_type": "stream",
     "text": [
      "/home/joannelam/Projects/my_project/lib/python2.7/site-packages/sklearn/utils/__init__.py:10: RuntimeWarning: numpy.dtype size changed, may indicate binary incompatibility. Expected 96, got 80\n",
      "  from .murmurhash import murmurhash3_32\n",
      "/home/joannelam/Projects/my_project/lib/python2.7/site-packages/sklearn/utils/__init__.py:10: RuntimeWarning: numpy.ufunc size changed, may indicate binary incompatibility. Expected 192, got 144\n",
      "  from .murmurhash import murmurhash3_32\n",
      "/home/joannelam/Projects/my_project/lib/python2.7/site-packages/scipy/optimize/_trlib/__init__.py:1: RuntimeWarning: numpy.dtype size changed, may indicate binary incompatibility. Expected 96, got 88\n",
      "  from ._trlib import TRLIBQuadraticSubproblem\n",
      "/home/joannelam/Projects/my_project/lib/python2.7/site-packages/scipy/optimize/_numdiff.py:10: RuntimeWarning: numpy.dtype size changed, may indicate binary incompatibility. Expected 96, got 88\n",
      "  from ._group_columns import group_dense, group_sparse\n",
      "/home/joannelam/Projects/my_project/lib/python2.7/site-packages/scipy/stats/_continuous_distns.py:18: RuntimeWarning: numpy.dtype size changed, may indicate binary incompatibility. Expected 96, got 88\n",
      "  from . import _stats\n",
      "/home/joannelam/Projects/my_project/lib/python2.7/site-packages/sklearn/utils/extmath.py:24: RuntimeWarning: numpy.dtype size changed, may indicate binary incompatibility. Expected 96, got 80\n",
      "  from ._logistic_sigmoid import _log_logistic_sigmoid\n",
      "/home/joannelam/Projects/my_project/lib/python2.7/site-packages/sklearn/utils/extmath.py:24: RuntimeWarning: numpy.ufunc size changed, may indicate binary incompatibility. Expected 192, got 144\n",
      "  from ._logistic_sigmoid import _log_logistic_sigmoid\n",
      "/home/joannelam/Projects/my_project/lib/python2.7/site-packages/sklearn/utils/extmath.py:26: RuntimeWarning: numpy.dtype size changed, may indicate binary incompatibility. Expected 96, got 80\n",
      "  from .sparsefuncs_fast import csr_row_norms\n",
      "/home/joannelam/Projects/my_project/lib/python2.7/site-packages/sklearn/utils/extmath.py:26: RuntimeWarning: numpy.ufunc size changed, may indicate binary incompatibility. Expected 192, got 144\n",
      "  from .sparsefuncs_fast import csr_row_norms\n",
      "/home/joannelam/Projects/my_project/lib/python2.7/site-packages/sklearn/metrics/cluster/supervised.py:24: RuntimeWarning: numpy.dtype size changed, may indicate binary incompatibility. Expected 96, got 80\n",
      "  from .expected_mutual_info_fast import expected_mutual_information\n",
      "/home/joannelam/Projects/my_project/lib/python2.7/site-packages/sklearn/metrics/cluster/supervised.py:24: RuntimeWarning: numpy.ufunc size changed, may indicate binary incompatibility. Expected 192, got 144\n",
      "  from .expected_mutual_info_fast import expected_mutual_information\n",
      "/home/joannelam/Projects/my_project/lib/python2.7/site-packages/sklearn/metrics/pairwise.py:29: RuntimeWarning: numpy.dtype size changed, may indicate binary incompatibility. Expected 96, got 80\n",
      "  from .pairwise_fast import _chi2_kernel_fast, _sparse_manhattan\n",
      "/home/joannelam/Projects/my_project/lib/python2.7/site-packages/sklearn/metrics/pairwise.py:29: RuntimeWarning: numpy.ufunc size changed, may indicate binary incompatibility. Expected 192, got 144\n",
      "  from .pairwise_fast import _chi2_kernel_fast, _sparse_manhattan\n"
     ]
    }
   ],
   "source": [
    "import pandas as pd\n",
    "import keras\n",
    "from keras.layers import Dense\n",
    "from keras.models import Sequential\n",
    "from keras.utils import to_categorical\n",
    "from keras.optimizers import SGD \n",
    "from keras.callbacks import EarlyStopping\n",
    "from keras.utils import np_utils\n",
    "import itertools\n",
    "from keras.layers import LSTM\n",
    "from keras.layers import Dropout\n",
    "import matplotlib.pyplot as plt\n",
    "from sklearn.metrics import mean_squared_error\n",
    "import numpy as np\n",
    "from preprocessing import PrepareData\n",
    "# from jupyterthemes import jtplot\n",
    "# jtplot.style()\n",
    "from keras.layers import TimeDistributed\n",
    "from keras.callbacks import ReduceLROnPlateau\n",
    "import datetime\n",
    "from keras.callbacks import TensorBoard\n",
    "import random"
   ]
  },
  {
   "cell_type": "code",
   "execution_count": 2,
   "metadata": {
    "collapsed": true
   },
   "outputs": [],
   "source": [
    "def shuffle(X,Y):\n",
    "    np.random.seed(10)\n",
    "    randomList = np.arange(X.shape[0])\n",
    "    np.random.shuffle(randomList)\n",
    "    return X[randomList], Y[randomList]"
   ]
  },
  {
   "cell_type": "code",
   "execution_count": 3,
   "metadata": {
    "collapsed": true
   },
   "outputs": [],
   "source": [
    "def splitData(X,Y,rate):\n",
    "    X_train = X[int(X.shape[0]*rate):]\n",
    "    Y_train = Y[int(Y.shape[0]*rate):]\n",
    "    X_val = X[:int(X.shape[0]*rate)]\n",
    "    Y_val = Y[:int(Y.shape[0]*rate)]\n",
    "    return X_train, Y_train, X_val, Y_val"
   ]
  },
  {
   "cell_type": "code",
   "execution_count": 4,
   "metadata": {
    "collapsed": true
   },
   "outputs": [],
   "source": [
    "def buildTrain(train, timesteps=5, futureDay=1):\n",
    "    X_train, Y_train = [], []\n",
    "    sales = train['SalePrice']\n",
    "    train.drop(\"SalePrice\", axis=1, inplace=True)\n",
    "    for i in range(train.shape[0]-futureDay-timesteps):\n",
    "        X_train.append(np.array(train.iloc[i:i+timesteps]))\n",
    "        Y_train.append(np.array(sales.iloc[i+timesteps-1:i+timesteps+futureDay-1]))\n",
    "    return np.array(X_train), np.array(Y_train)"
   ]
  },
  {
   "cell_type": "code",
   "execution_count": 5,
   "metadata": {
    "collapsed": true
   },
   "outputs": [],
   "source": [
    "def buildTest(test, timesteps=5, futureDay=1):\n",
    "    X_test = []\n",
    "    for i in range(test.shape[0]-futureDay-timesteps):\n",
    "        X_test.append(np.array(test.iloc[i:i+timesteps]))\n",
    "    return np.array(X_test)"
   ]
  },
  {
   "cell_type": "code",
   "execution_count": 6,
   "metadata": {
    "collapsed": true
   },
   "outputs": [],
   "source": [
    "def buildModel(shape):\n",
    "    model = Sequential()\n",
    "    model.add(LSTM(5, input_shape=(shape[1], shape[2]), return_sequences=False))\n",
    "    model.add(Dropout(0.4))\n",
    "    model.add(Dense(150, input_shape=(shape[1], shape[2])))\n",
    "    model.add(Dropout(0.3))\n",
    "#     model.add(Dense(100, input_shape=(shape[1], shape[2])))\n",
    "#     model.add(Dropout(0.1))\n",
    "    model.add(Dense(1, activation=\"tanh\"))\n",
    "    model.compile(loss=\"mean_squared_error\", optimizer=\"adam\")\n",
    "    model.summary()\n",
    "    return model"
   ]
  },
  {
   "cell_type": "code",
   "execution_count": 7,
   "metadata": {
    "collapsed": true,
    "scrolled": true
   },
   "outputs": [],
   "source": [
    "def train_model(X_train, Y_train, X_val=None, Y_val=None):\n",
    "    batch_size = 5\n",
    "    model = buildModel(X_train.shape)\n",
    "    reduce_lr = ReduceLROnPlateau(monitor='val_loss', factor=0.2, patience=3, min_lr=0.001)\n",
    "    early_stop = EarlyStopping(monitor=\"val_loss\", patience=20, verbose=1, mode=\"auto\")\n",
    "    tf_board = TensorBoard(log_dir='./logs/{}'.format(datetime.datetime.now().strftime('%H_%M')), histogram_freq=0, batch_size=batch_size, write_graph=True, write_grads=False, write_images=False, embeddings_freq=0, embeddings_layer_names=None, embeddings_metadata=None, embeddings_data=None)\n",
    "    if X_val is None or Y_val is None:\n",
    "        kwargs = {}\n",
    "    else:\n",
    "        kwargs = {\n",
    "            \"validation_data\": (X_val, Y_val)\n",
    "        }\n",
    "    history = model.fit(X_train, Y_train, epochs=200, shuffle=True, batch_size=batch_size, callbacks=[tf_board, reduce_lr, early_stop], **kwargs)\n",
    "    return model, history\n"
   ]
  },
  {
   "cell_type": "code",
   "execution_count": 8,
   "metadata": {
    "collapsed": true
   },
   "outputs": [],
   "source": [
    "def convert_to_price(sales, predict_results):\n",
    "    max_s = sales.SalePrice.max()\n",
    "    min_s = sales.SalePrice.min()\n",
    "    predicted_p = predict_results*(max_s - min_s) + min_s\n",
    "    return predicted_p"
   ]
  },
  {
   "cell_type": "code",
   "execution_count": 9,
   "metadata": {
    "collapsed": true
   },
   "outputs": [],
   "source": [
    "timesteps = 5\n",
    "ppd = PrepareData()\n",
    "df, sale_price = ppd.get_train_data(time_series=True)\n",
    "\n",
    "df[\"date\"] = df.index\n",
    "df = df.sort_values([\"OverallQual\", \"date\"])\n",
    "df.drop('date', axis=1, inplace=True)\n",
    "X_train_all, Y_train_all = buildTrain(df, timesteps=timesteps)\n",
    "X_train, Y_train = shuffle(X_train_all, Y_train_all)\n",
    "X_train, Y_train, X_val, Y_val = splitData(X_train, Y_train, 0.1)"
   ]
  },
  {
   "cell_type": "code",
   "execution_count": 10,
   "metadata": {
    "scrolled": true
   },
   "outputs": [
    {
     "name": "stdout",
     "output_type": "stream",
     "text": [
      "_________________________________________________________________\n",
      "Layer (type)                 Output Shape              Param #   \n",
      "=================================================================\n",
      "lstm_1 (LSTM)                (None, 5)                 5020      \n",
      "_________________________________________________________________\n",
      "dropout_1 (Dropout)          (None, 5)                 0         \n",
      "_________________________________________________________________\n",
      "dense_1 (Dense)              (None, 150)               900       \n",
      "_________________________________________________________________\n",
      "dropout_2 (Dropout)          (None, 150)               0         \n",
      "_________________________________________________________________\n",
      "dense_2 (Dense)              (None, 1)                 151       \n",
      "=================================================================\n",
      "Total params: 6,071\n",
      "Trainable params: 6,071\n",
      "Non-trainable params: 0\n",
      "_________________________________________________________________\n",
      "Train on 1309 samples, validate on 145 samples\n",
      "Epoch 1/200\n",
      "1309/1309 [==============================] - 2s 1ms/step - loss: 0.0086 - val_loss: 0.0051\n",
      "Epoch 2/200\n",
      "1309/1309 [==============================] - 1s 786us/step - loss: 0.0058 - val_loss: 0.0038\n",
      "Epoch 3/200\n",
      "1309/1309 [==============================] - 1s 877us/step - loss: 0.0054 - val_loss: 0.0030\n",
      "Epoch 4/200\n",
      "1309/1309 [==============================] - 1s 793us/step - loss: 0.0047 - val_loss: 0.0032\n",
      "Epoch 5/200\n",
      "1309/1309 [==============================] - 1s 861us/step - loss: 0.0045 - val_loss: 0.0027\n",
      "Epoch 6/200\n",
      "1309/1309 [==============================] - 1s 825us/step - loss: 0.0039 - val_loss: 0.0039\n",
      "Epoch 7/200\n",
      "1309/1309 [==============================] - 1s 672us/step - loss: 0.0038 - val_loss: 0.0030\n",
      "Epoch 8/200\n",
      "1309/1309 [==============================] - 1s 674us/step - loss: 0.0036 - val_loss: 0.0036\n",
      "Epoch 9/200\n",
      "1309/1309 [==============================] - 1s 694us/step - loss: 0.0031 - val_loss: 0.0036\n",
      "Epoch 10/200\n",
      "1309/1309 [==============================] - 1s 738us/step - loss: 0.0037 - val_loss: 0.0030\n",
      "Epoch 11/200\n",
      "1309/1309 [==============================] - 1s 674us/step - loss: 0.0032 - val_loss: 0.0028\n",
      "Epoch 12/200\n",
      "1309/1309 [==============================] - 1s 721us/step - loss: 0.0032 - val_loss: 0.0028\n",
      "Epoch 13/200\n",
      "1309/1309 [==============================] - 1s 683us/step - loss: 0.0032 - val_loss: 0.0032\n",
      "Epoch 14/200\n",
      "1309/1309 [==============================] - 1s 697us/step - loss: 0.0030 - val_loss: 0.0035\n",
      "Epoch 15/200\n",
      "1309/1309 [==============================] - 1s 678us/step - loss: 0.0027 - val_loss: 0.0028\n",
      "Epoch 16/200\n",
      "1309/1309 [==============================] - 1s 728us/step - loss: 0.0032 - val_loss: 0.0030\n",
      "Epoch 17/200\n",
      "1309/1309 [==============================] - 1s 677us/step - loss: 0.0027 - val_loss: 0.0033\n",
      "Epoch 18/200\n",
      "1309/1309 [==============================] - 1s 699us/step - loss: 0.0032 - val_loss: 0.0031\n",
      "Epoch 19/200\n",
      "1309/1309 [==============================] - 1s 706us/step - loss: 0.0026 - val_loss: 0.0027\n",
      "Epoch 20/200\n",
      "1309/1309 [==============================] - 1s 695us/step - loss: 0.0027 - val_loss: 0.0035\n",
      "Epoch 21/200\n",
      "1309/1309 [==============================] - 1s 740us/step - loss: 0.0034 - val_loss: 0.0028\n",
      "Epoch 22/200\n",
      "1309/1309 [==============================] - 1s 676us/step - loss: 0.0029 - val_loss: 0.0027\n",
      "Epoch 23/200\n",
      "1309/1309 [==============================] - 1s 685us/step - loss: 0.0027 - val_loss: 0.0032\n",
      "Epoch 24/200\n",
      "1309/1309 [==============================] - 1s 700us/step - loss: 0.0026 - val_loss: 0.0031\n",
      "Epoch 25/200\n",
      "1309/1309 [==============================] - 1s 704us/step - loss: 0.0027 - val_loss: 0.0031\n",
      "Epoch 26/200\n",
      "1309/1309 [==============================] - 1s 696us/step - loss: 0.0031 - val_loss: 0.0025\n",
      "Epoch 27/200\n",
      "1309/1309 [==============================] - 1s 720us/step - loss: 0.0024 - val_loss: 0.0030\n",
      "Epoch 28/200\n",
      "1309/1309 [==============================] - 1s 714us/step - loss: 0.0025 - val_loss: 0.0034\n",
      "Epoch 29/200\n",
      "1309/1309 [==============================] - 1s 761us/step - loss: 0.0028 - val_loss: 0.0027\n",
      "Epoch 30/200\n",
      "1309/1309 [==============================] - 1s 688us/step - loss: 0.0026 - val_loss: 0.0032\n",
      "Epoch 31/200\n",
      "1309/1309 [==============================] - 1s 685us/step - loss: 0.0027 - val_loss: 0.0026\n",
      "Epoch 32/200\n",
      "1309/1309 [==============================] - 1s 726us/step - loss: 0.0024 - val_loss: 0.0032\n",
      "Epoch 33/200\n",
      "1309/1309 [==============================] - 1s 691us/step - loss: 0.0025 - val_loss: 0.0026\n",
      "Epoch 34/200\n",
      "1309/1309 [==============================] - 1s 709us/step - loss: 0.0028 - val_loss: 0.0032\n",
      "Epoch 35/200\n",
      "1309/1309 [==============================] - 1s 724us/step - loss: 0.0023 - val_loss: 0.0026\n",
      "Epoch 36/200\n",
      "1309/1309 [==============================] - 1s 696us/step - loss: 0.0020 - val_loss: 0.0025\n",
      "Epoch 37/200\n",
      "1309/1309 [==============================] - 1s 706us/step - loss: 0.0030 - val_loss: 0.0025\n",
      "Epoch 38/200\n",
      "1309/1309 [==============================] - 1s 743us/step - loss: 0.0030 - val_loss: 0.0024\n",
      "Epoch 39/200\n",
      "1309/1309 [==============================] - 1s 710us/step - loss: 0.0019 - val_loss: 0.0030\n",
      "Epoch 40/200\n",
      "1309/1309 [==============================] - 1s 720us/step - loss: 0.0019 - val_loss: 0.0026\n",
      "Epoch 41/200\n",
      "1309/1309 [==============================] - 1s 716us/step - loss: 0.0025 - val_loss: 0.0030\n",
      "Epoch 42/200\n",
      "1309/1309 [==============================] - 1s 715us/step - loss: 0.0026 - val_loss: 0.0025\n",
      "Epoch 43/200\n",
      "1309/1309 [==============================] - 1s 731us/step - loss: 0.0023 - val_loss: 0.0021\n",
      "Epoch 44/200\n",
      "1309/1309 [==============================] - 1s 713us/step - loss: 0.0025 - val_loss: 0.0026\n",
      "Epoch 45/200\n",
      "1309/1309 [==============================] - 1s 748us/step - loss: 0.0028 - val_loss: 0.0026\n",
      "Epoch 46/200\n",
      "1309/1309 [==============================] - 1s 731us/step - loss: 0.0022 - val_loss: 0.0021\n",
      "Epoch 47/200\n",
      "1309/1309 [==============================] - 1s 763us/step - loss: 0.0022 - val_loss: 0.0023\n",
      "Epoch 48/200\n",
      "1309/1309 [==============================] - 1s 876us/step - loss: 0.0020 - val_loss: 0.0025\n",
      "Epoch 49/200\n",
      "1309/1309 [==============================] - 1s 743us/step - loss: 0.0025 - val_loss: 0.0027\n",
      "Epoch 50/200\n",
      "1309/1309 [==============================] - 1s 746us/step - loss: 0.0021 - val_loss: 0.0025\n",
      "Epoch 51/200\n",
      "1309/1309 [==============================] - 1s 755us/step - loss: 0.0024 - val_loss: 0.0024\n",
      "Epoch 52/200\n",
      "1309/1309 [==============================] - 1s 866us/step - loss: 0.0023 - val_loss: 0.0026\n",
      "Epoch 53/200\n",
      "1309/1309 [==============================] - 1s 798us/step - loss: 0.0024 - val_loss: 0.0022\n",
      "Epoch 54/200\n",
      "1309/1309 [==============================] - 1s 794us/step - loss: 0.0019 - val_loss: 0.0029\n",
      "Epoch 55/200\n",
      "1309/1309 [==============================] - 1s 735us/step - loss: 0.0024 - val_loss: 0.0027\n",
      "Epoch 56/200\n",
      "1309/1309 [==============================] - 1s 749us/step - loss: 0.0023 - val_loss: 0.0027\n",
      "Epoch 57/200\n",
      "1309/1309 [==============================] - 1s 754us/step - loss: 0.0020 - val_loss: 0.0024\n",
      "Epoch 58/200\n",
      "1309/1309 [==============================] - 1s 788us/step - loss: 0.0022 - val_loss: 0.0024\n",
      "Epoch 59/200\n",
      "1309/1309 [==============================] - 1s 751us/step - loss: 0.0020 - val_loss: 0.0025\n",
      "Epoch 60/200\n",
      "1309/1309 [==============================] - 1s 846us/step - loss: 0.0023 - val_loss: 0.0024\n",
      "Epoch 61/200\n",
      "1309/1309 [==============================] - 1s 791us/step - loss: 0.0019 - val_loss: 0.0026\n",
      "Epoch 62/200\n",
      "1309/1309 [==============================] - 1s 720us/step - loss: 0.0019 - val_loss: 0.0030\n",
      "Epoch 63/200\n",
      "1309/1309 [==============================] - 1s 791us/step - loss: 0.0023 - val_loss: 0.0024\n",
      "Epoch 64/200\n",
      "1309/1309 [==============================] - 1s 748us/step - loss: 0.0024 - val_loss: 0.0025\n",
      "Epoch 65/200\n",
      "1309/1309 [==============================] - 1s 763us/step - loss: 0.0023 - val_loss: 0.0023\n",
      "Epoch 66/200\n",
      "1309/1309 [==============================] - 1s 786us/step - loss: 0.0021 - val_loss: 0.0026\n",
      "Epoch 00066: early stopping\n",
      "RMSE (Training Data): 0.00083362017462721\n",
      "RMSE (Testin Data): 0.0026453158403091127\n"
     ]
    },
    {
     "data": {
      "image/png": "[encoded data removed]",
      "text/plain": [
       "<matplotlib.figure.Figure at 0x7fec63a71c10>"
      ]
     },
     "metadata": {},
     "output_type": "display_data"
    }
   ],
   "source": [
    "model, history = train_model(X_train, Y_train, X_val, Y_val)\n",
    "# make a prediction\n",
    "pred_train = model.predict(X_train)\n",
    "print 'RMSE (Training Data):', mean_squared_error(Y_train , pred_train)\n",
    "pred_test = model.predict(X_val)\n",
    "print 'RMSE (Testin Data):', mean_squared_error(Y_val , pred_test)\n",
    "\n",
    "# show distribution\n",
    "plt.scatter(pred_test, Y_val, alpha=.75,\n",
    "            color='b') #alpha helps to show overlapping data\n",
    "plt.xlabel('Predicted Price')\n",
    "plt.ylabel('Actual Price')\n",
    "plt.title('LSTM with Mulitple Timestamps')\n",
    "plt.show()"
   ]
  },
  {
   "cell_type": "code",
   "execution_count": 11,
   "metadata": {},
   "outputs": [
    {
     "data": {
      "image/png": "[encoded data removed]",
      "text/plain": [
       "<matplotlib.figure.Figure at 0x7fec71af5050>"
      ]
     },
     "metadata": {},
     "output_type": "display_data"
    }
   ],
   "source": [
    "# summarize history for loss\n",
    "plt.plot(history.history['loss'])\n",
    "plt.plot(history.history['val_loss'])\n",
    "plt.title('model loss')\n",
    "plt.ylabel('loss')\n",
    "plt.xlabel('epoch')\n",
    "plt.legend(['train', 'test'], loc='upper right')\n",
    "plt.show()"
   ]
  },
  {
   "cell_type": "code",
   "execution_count": 12,
   "metadata": {
    "collapsed": true
   },
   "outputs": [],
   "source": [
    "df_padding = df.sort_index().head(timesteps+1)\n",
    "# df_padding.drop(\"SalePrice\", axis=1, inplace=True)\n",
    "test_df, test_ids = ppd.get_test_data(time_series=True)\n",
    "test_df['date'] = test_df.index\n",
    "test_df = test_df.sort_values([\"date\"])\n",
    "df_padding['date'] = df_padding.index"
   ]
  },
  {
   "cell_type": "code",
   "execution_count": null,
   "metadata": {},
   "outputs": [],
   "source": [
    "print df_padding.shape\n",
    "print test_df.shape"
   ]
  },
  {
   "cell_type": "code",
   "execution_count": null,
   "metadata": {},
   "outputs": [],
   "source": [
    "test_df"
   ]
  },
  {
   "cell_type": "code",
   "execution_count": null,
   "metadata": {
    "collapsed": true
   },
   "outputs": [],
   "source": [
    "test_df_padded = pd.concat([df_padding, test_df], ignore_index=True)"
   ]
  },
  {
   "cell_type": "code",
   "execution_count": null,
   "metadata": {},
   "outputs": [],
   "source": [
    "test_df_padded.shape"
   ]
  },
  {
   "cell_type": "code",
   "execution_count": null,
   "metadata": {},
   "outputs": [],
   "source": [
    "test_df_padded.sort_values(['OverallQual', 'date'])"
   ]
  },
  {
   "cell_type": "code",
   "execution_count": null,
   "metadata": {
    "collapsed": true
   },
   "outputs": [],
   "source": [
    "test_df_padded.drop('date', inplace=True, axis=1)"
   ]
  },
  {
   "cell_type": "code",
   "execution_count": null,
   "metadata": {
    "collapsed": true
   },
   "outputs": [],
   "source": [
    "X_test = buildTest(test_df_padded, timesteps=timesteps)"
   ]
  },
  {
   "cell_type": "code",
   "execution_count": null,
   "metadata": {
    "scrolled": true
   },
   "outputs": [],
   "source": [
    "X_test.shape"
   ]
  },
  {
   "cell_type": "code",
   "execution_count": null,
   "metadata": {
    "scrolled": true
   },
   "outputs": [],
   "source": [
    "model2, history2 = train_model(X_train_all, Y_train_all)"
   ]
  },
  {
   "cell_type": "code",
   "execution_count": null,
   "metadata": {
    "collapsed": true
   },
   "outputs": [],
   "source": [
    "results = model2.predict(X_test)"
   ]
  },
  {
   "cell_type": "code",
   "execution_count": null,
   "metadata": {
    "collapsed": true
   },
   "outputs": [],
   "source": [
    "price = convert_to_price(sale_price, results)"
   ]
  },
  {
   "cell_type": "code",
   "execution_count": null,
   "metadata": {
    "collapsed": true
   },
   "outputs": [],
   "source": [
    "test_ids['SalePrice'] = price"
   ]
  },
  {
   "cell_type": "code",
   "execution_count": null,
   "metadata": {
    "collapsed": true,
    "scrolled": true
   },
   "outputs": [],
   "source": [
    "test_results = test_ids.sort_values('Id')"
   ]
  },
  {
   "cell_type": "code",
   "execution_count": null,
   "metadata": {
    "collapsed": true
   },
   "outputs": [],
   "source": [
    "test_results.to_csv(\"submission_{}.csv\".format(datetime.datetime.now().strftime(\"%H_%M\")), index=False)"
   ]
  },
  {
   "cell_type": "code",
   "execution_count": null,
   "metadata": {
    "collapsed": true
   },
   "outputs": [],
   "source": []
  }
 ],
 "metadata": {
  "kernelspec": {
   "display_name": "Python 2",
   "language": "python",
   "name": "python2"
  },
  "language_info": {
   "codemirror_mode": {
    "name": "ipython",
    "version": 2
   },
   "file_extension": ".py",
   "mimetype": "text/x-python",
   "name": "python",
   "nbconvert_exporter": "python",
   "pygments_lexer": "ipython2",
   "version": "2.7.13"
  }
 },
 "nbformat": 4,
 "nbformat_minor": 2
}
